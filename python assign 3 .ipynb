{
 "cells": [
  {
   "cell_type": "markdown",
   "metadata": {},
   "source": [
    "# 1) Write a Python Program to implement your own myreduce() function which works exactly like Python's built-in function reduce()"
   ]
  },
  {
   "cell_type": "raw",
   "metadata": {},
   "source": [
    "Reduce function is Working in following step : \n",
    "\n",
    "1)  first two elements of sequence are picked and the result is obtained.\n",
    "2)  to apply the same function to the previously attained result and \n",
    "3)  the number just succeeding the second element and \n",
    "4)  the result is again stored.\n",
    "5)  repeate the all step till no more elements are left in the container.\n",
    "\n",
    "6)  The final returned result is returned and printed on console."
   ]
  },
  {
   "cell_type": "code",
   "execution_count": 109,
   "metadata": {},
   "outputs": [
    {
     "name": "stdout",
     "output_type": "stream",
     "text": [
      "20\n"
     ]
    }
   ],
   "source": [
    "def my_reduce(fuction,seq):\n",
    "    result = seq[0]  # first value of sequence is picked and assign to result\n",
    "    for i in seq[1:]:   # iterate over remaining item (i) in seq and apply reduce fuction\n",
    "        result = fuction(result, i )\n",
    "    return result \n",
    "\n",
    "#test the myreduce function\n",
    "lst = [5,6,4,2,3]\n",
    "def do_sum(n1,n2):\n",
    "    return n1+n2\n",
    "print (my_reduce(do_sum,lst))"
   ]
  },
  {
   "cell_type": "markdown",
   "metadata": {},
   "source": [
    "# 2) Write a Python program to implement your own myfilter() function which works exactly like Python's built-in function filter()\n"
   ]
  },
  {
   "cell_type": "code",
   "execution_count": 108,
   "metadata": {},
   "outputs": [
    {
     "name": "stdout",
     "output_type": "stream",
     "text": [
      "[8, 6, 4, 2]\n"
     ]
    }
   ],
   "source": [
    "def my_filter(fuction , seq):\n",
    "    result = []         # intiallize the empty list   \n",
    "    for i in seq :\n",
    "        if fuction(i):\n",
    "            result.append(i)    #  iterate the remaining item in sequence and apply the filter fuction \n",
    "    return result   #final otput\n",
    "    \n",
    "\n",
    "# test the fuction \n",
    "n = [8,9,3,6,7,4,2]\n",
    "def is_even(n):\n",
    "    if n % 2 == 0:\n",
    "        return True\n",
    "    else:\n",
    "        return False\n",
    "#test this function        \n",
    "f = my_filter(is_even,n)\n",
    "print (f)\n"
   ]
  },
  {
   "cell_type": "markdown",
   "metadata": {},
   "source": [
    "# 2. Implement List comprehensions to produce the following lists.\n",
    "Write List comprehensions to produce the following Lists\n",
    "['A', 'C', 'A', 'D', 'G', 'I', ’L’, ‘ D’]\n",
    "['x', 'xx', 'xxx', 'xxxx', 'y', 'yy', 'yyy', 'yyyy', 'z', 'zz', 'zzz', 'zzzz']\n",
    "['x', 'y', 'z', 'xx', 'yy', 'zz', 'xxx', 'yyy', 'zzz', 'xxxx', 'yyyy', 'zzzz']\n",
    "[[2], [3], [4], [3], [4], [5], [4], [5], [6]] [[2, 3, 4, 5], [3, 4, 5, 6],\n",
    "[4, 5, 6, 7], [5, 6, 7, 8]]\n",
    "[(1, 1), (2, 1), (3, 1), (1, 2), (2, 2), (3, 2), (1, 3), (2, 3), (3, 3)]"
   ]
  },
  {
   "cell_type": "code",
   "execution_count": 107,
   "metadata": {},
   "outputs": [
    {
     "name": "stdout",
     "output_type": "stream",
     "text": [
      "['A', 'C', 'A', 'D', 'G', 'I', 'L', 'D']\n"
     ]
    }
   ],
   "source": [
    "# first sloution for list ['A', 'C', 'A', 'D', 'G', 'I', ’L’, ‘ D’]\n",
    "\n",
    "new_lst = [ word.upper() for word in 'AcAdgILd']\n",
    "print (new_lst)"
   ]
  },
  {
   "cell_type": "code",
   "execution_count": 106,
   "metadata": {},
   "outputs": [
    {
     "name": "stdout",
     "output_type": "stream",
     "text": [
      "['X', 'XX', 'XXX', 'XXXX', 'Y', 'YY', 'YYY', 'YYYY', 'Z', 'ZZ', 'ZZZ', 'ZZZZ']\n"
     ]
    }
   ],
   "source": [
    "#Second solution for list  ['x', 'xx', 'xxx', 'xxxx', 'y', 'yy', 'yyy', 'yyyy', 'z', 'zz', 'zzz', 'zzzz']\n",
    "\n",
    "new_lst1 = [i*n for i in 'XYZ' for n in range(1,5)]\n",
    "print(new_lst1)"
   ]
  },
  {
   "cell_type": "code",
   "execution_count": 82,
   "metadata": {},
   "outputs": [
    {
     "name": "stdout",
     "output_type": "stream",
     "text": [
      "['x', 'y', 'z', 'xx', 'yy', 'zz', 'xxx', 'yyy', 'zzz', 'xxxx', 'yyyy', 'zzzz']\n"
     ]
    }
   ],
   "source": [
    "# third solution for list ['x', 'y', 'z', 'xx', 'yy', 'zz', 'xxx', 'yyy', 'zzz', 'xxxx', 'yyyy', 'zzzz'] \n",
    "\n",
    "word_lst = [i*n for n in range(1,5) for i in 'xyz']\n",
    "\n",
    "print(word_lst)"
   ]
  },
  {
   "cell_type": "code",
   "execution_count": 86,
   "metadata": {},
   "outputs": [
    {
     "data": {
      "text/plain": [
       "[[2], [3], [4], [3], [4], [5], [4], [5], [6]]"
      ]
     },
     "execution_count": 86,
     "metadata": {},
     "output_type": "execute_result"
    }
   ],
   "source": [
    "# fourth solution for list [[2], [3], [4], [3], [4], [5], [4], [5], [6]]  \n",
    "num = [2,3,4]\n",
    "nlst = [[i+n] for i in num for n in range (0,3)]\n",
    "nlst"
   ]
  },
  {
   "cell_type": "code",
   "execution_count": 104,
   "metadata": {},
   "outputs": [
    {
     "data": {
      "text/plain": [
       "[[2, 3, 4], [3, 4, 5], [4, 5, 6], [5, 6, 7], [6, 7, 8]]"
      ]
     },
     "execution_count": 104,
     "metadata": {},
     "output_type": "execute_result"
    }
   ],
   "source": [
    "#fifth solution for list  [[2, 3, 4, 5], [3, 4, 5, 6], [4, 5, 6, 7], [5, 6, 7, 8]]\n",
    "num1 = [2,3,4]\n",
    "new_numlst1 = [[i+j for i in num1] for j in range(0,5)]\n",
    "\n",
    "new_numlst1"
   ]
  },
  {
   "cell_type": "code",
   "execution_count": 105,
   "metadata": {},
   "outputs": [
    {
     "data": {
      "text/plain": [
       "[(1, 1), (1, 2), (1, 3), (2, 1), (2, 2), (2, 3), (3, 1), (3, 2), (3, 3)]"
      ]
     },
     "execution_count": 105,
     "metadata": {},
     "output_type": "execute_result"
    }
   ],
   "source": [
    " # [(1, 1), (2, 1), (3, 1), (1, 2), (2, 2), (3, 2), (1, 3), (2, 3), (3, 3)]\n",
    "    \n",
    "num3 =[1,2,3]\n",
    "new_numlst2 = [(i,j) for i in num3 for j in range (1,4)]\n",
    "\n",
    "new_numlst2"
   ]
  },
  {
   "cell_type": "code",
   "execution_count": null,
   "metadata": {},
   "outputs": [],
   "source": []
  }
 ],
 "metadata": {
  "kernelspec": {
   "display_name": "Python 3",
   "language": "python",
   "name": "python3"
  },
  "language_info": {
   "codemirror_mode": {
    "name": "ipython",
    "version": 3
   },
   "file_extension": ".py",
   "mimetype": "text/x-python",
   "name": "python",
   "nbconvert_exporter": "python",
   "pygments_lexer": "ipython3",
   "version": "3.7.4"
  }
 },
 "nbformat": 4,
 "nbformat_minor": 2
}
