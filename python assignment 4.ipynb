{
 "cells": [
  {
   "cell_type": "markdown",
   "metadata": {},
   "source": [
    "1. Write a Python Program(with class concepts) to find the area of the triangle using the below\n",
    "formula.\n",
    "area = (s*(s-a)*(s-b)*(s-c)) ** 0.5\n",
    "Function to take the length of the sides of triangle from user should be defined in the parent\n",
    "class and function to calculate the area should be defined in subclass."
   ]
  },
  {
   "cell_type": "code",
   "execution_count": 10,
   "metadata": {},
   "outputs": [
    {
     "name": "stdout",
     "output_type": "stream",
     "text": [
      "Enter first side of triangle : 45\n",
      "Enter second side of triangle : 40\n",
      "Enter third side of triangle : 20\n",
      "Area of Triangle : 399.9511688944039\n"
     ]
    }
   ],
   "source": [
    "a = int(input('Enter first side of triangle : '))\n",
    "b = int(input('Enter second side of triangle : '))\n",
    "c = int(input('Enter third side of triangle : '))\n",
    "class poly():\n",
    "    def __init__(self,a,b,c):\n",
    "        self.a = a \n",
    "        self.b = b\n",
    "        self.c = c\n",
    "class tri(poly):\n",
    "    def __init__(self,a,b,c):\n",
    "        super().__init__(a,b,c)\n",
    "    def get_area(self):\n",
    "        s= (a + b + c)/2\n",
    "        area = (s*(s-a)*(s-b)*(s-c)) ** 0.5\n",
    "        return area \n",
    "t = tri(a,b,c)\n",
    "print(\"Area of Triangle : {0}\" .format(t.get_area()))        \n",
    "    "
   ]
  },
  {
   "cell_type": "markdown",
   "metadata": {},
   "source": [
    "1.2 Write a function filter_long_words() that takes a list of words and an integer n and returns\n",
    "the list of words that are longer than n."
   ]
  },
  {
   "cell_type": "code",
   "execution_count": 19,
   "metadata": {},
   "outputs": [
    {
     "name": "stdout",
     "output_type": "stream",
     "text": [
      "Enter the list of wordsyuio hjk dfgh vb c x s w o yuij\n",
      "Enter the number n to find words longer than n : 3\n",
      "['yuio', 'dfgh', 'yuij']\n"
     ]
    }
   ],
   "source": [
    "str = input('Enter the list of words')\n",
    "n = int (input('Enter the number n to find words longer than n : '))\n",
    "def filter_long_words(n ,str ):\n",
    "    word_len = []\n",
    "    lst = str.split(' ')\n",
    "    for i in lst :\n",
    "        if len(i) > n :\n",
    "            word_len.append ( i )\n",
    "    return word_len\n",
    "print (filter_long_words( n, str))\n",
    "#print(filter_long_words(2, 'we are going to market for shopping '))"
   ]
  },
  {
   "cell_type": "markdown",
   "metadata": {},
   "source": [
    "2.1 Write a Python program using function concept that maps list of words into a list of integers\n",
    "representing the lengths of the corresponding words.\n",
    "Hint: If a list [ ab,cde,erty] is passed on to the python function output should come as [2,3,4]\n",
    "Here 2,3 and 4 are the lengths of the words in the list."
   ]
  },
  {
   "cell_type": "code",
   "execution_count": null,
   "metadata": {},
   "outputs": [],
   "source": [
    "lst =list(input(\"Input : Enter the words: \").split(\",\"))\n",
    "#lst = ['ab' , 'cde' , 'erty']\n",
    "def map_list_words(lst):\n",
    "    # map the list of words into a list of integers\n",
    "    return list(map(len,lst))\n",
    "\n",
    "print(\"output : The length of words : \", map_list_words(lst))\n"
   ]
  },
  {
   "cell_type": "markdown",
   "metadata": {},
   "source": [
    "2.2 Write a Python function which takes a character (i.e. a string of length 1) and returns True if\n",
    "it is a vowel, False otherwise."
   ]
  },
  {
   "cell_type": "code",
   "execution_count": 4,
   "metadata": {},
   "outputs": [
    {
     "name": "stdout",
     "output_type": "stream",
     "text": [
      "Enter only one character :j\n",
      "False\n"
     ]
    }
   ],
   "source": [
    "ch = input(\"Enter only one character :\")\n",
    "vowels = ('A','a','I','i','E','e','O','o','U','u')\n",
    "# below funtion is used to check wheather character is vowel or not \n",
    "def To_check_vowel(ch):\n",
    "    if ch not in vowels :\n",
    "        return False\n",
    "    return True\n",
    "\n",
    "    \n",
    "print(To_check_vowel(ch))"
   ]
  },
  {
   "cell_type": "code",
   "execution_count": null,
   "metadata": {},
   "outputs": [],
   "source": []
  }
 ],
 "metadata": {
  "kernelspec": {
   "display_name": "Python 3",
   "language": "python",
   "name": "python3"
  },
  "language_info": {
   "codemirror_mode": {
    "name": "ipython",
    "version": 3
   },
   "file_extension": ".py",
   "mimetype": "text/x-python",
   "name": "python",
   "nbconvert_exporter": "python",
   "pygments_lexer": "ipython3",
   "version": "3.7.4"
  }
 },
 "nbformat": 4,
 "nbformat_minor": 4
}
